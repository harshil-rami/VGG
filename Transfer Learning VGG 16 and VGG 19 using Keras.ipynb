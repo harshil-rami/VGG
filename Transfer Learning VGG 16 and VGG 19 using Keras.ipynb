{
 "cells": [
  {
   "cell_type": "code",
   "execution_count": 1,
   "id": "8ae4e479",
   "metadata": {},
   "outputs": [
    {
     "name": "stdout",
     "output_type": "stream",
     "text": [
      "Thu Sep 14 10:32:25 2023       \n",
      "+---------------------------------------------------------------------------------------+\n",
      "| NVIDIA-SMI 536.67                 Driver Version: 536.67       CUDA Version: 12.2     |\n",
      "|-----------------------------------------+----------------------+----------------------+\n",
      "| GPU  Name                     TCC/WDDM  | Bus-Id        Disp.A | Volatile Uncorr. ECC |\n",
      "| Fan  Temp   Perf          Pwr:Usage/Cap |         Memory-Usage | GPU-Util  Compute M. |\n",
      "|                                         |                      |               MIG M. |\n",
      "|=========================================+======================+======================|\n",
      "|   0  NVIDIA GeForce RTX 2070 ...  WDDM  | 00000000:01:00.0  On |                  N/A |\n",
      "| N/A   55C    P8               7W /  80W |   6269MiB /  8192MiB |      3%      Default |\n",
      "|                                         |                      |                  N/A |\n",
      "+-----------------------------------------+----------------------+----------------------+\n",
      "                                                                                         \n",
      "+---------------------------------------------------------------------------------------+\n",
      "| Processes:                                                                            |\n",
      "|  GPU   GI   CI        PID   Type   Process name                            GPU Memory |\n",
      "|        ID   ID                                                             Usage      |\n",
      "|=======================================================================================|\n",
      "|    0   N/A  N/A     20184      C   ...ll\\anaconda3\\envs\\GPUEnv\\python.exe    N/A      |\n",
      "|    0   N/A  N/A     32304    C+G   ...on\\1.0.42.877\\Grammarly.Desktop.exe    N/A      |\n",
      "+---------------------------------------------------------------------------------------+\n"
     ]
    }
   ],
   "source": [
    "!nvidia-smi"
   ]
  },
  {
   "cell_type": "code",
   "execution_count": 2,
   "id": "fb70cc3c",
   "metadata": {},
   "outputs": [],
   "source": [
    "from tensorflow.compat.v1 import ConfigProto\n",
    "from tensorflow.compat.v1 import InteractiveSession\n",
    "\n",
    "config = ConfigProto()\n",
    "config.gpu_options.per_process_gpu_memory_fraction = 0.5\n",
    "config.gpu_options.allow_growth = True\n",
    "session = InteractiveSession(config=config)"
   ]
  },
  {
   "cell_type": "code",
   "execution_count": 3,
   "id": "1984da88",
   "metadata": {},
   "outputs": [
    {
     "name": "stdout",
     "output_type": "stream",
     "text": [
      "2.5.0\n"
     ]
    }
   ],
   "source": [
    "import tensorflow as tf\n",
    "print(tf.__version__)"
   ]
  },
  {
   "cell_type": "code",
   "execution_count": 4,
   "id": "df42726e",
   "metadata": {},
   "outputs": [],
   "source": [
    "from tensorflow.keras.layers import Input, Lambda, Dense, Flatten\n",
    "from tensorflow.keras.models import Model\n",
    "from tensorflow.keras.applications.vgg16 import VGG16\n",
    "from tensorflow.keras.applications.vgg19 import VGG19\n",
    "from tensorflow.keras.preprocessing import image\n",
    "from tensorflow.keras.preprocessing.image import ImageDataGenerator, load_img\n",
    "import numpy as np\n",
    "from glob import glob\n",
    "import matplotlib.pyplot as plt"
   ]
  },
  {
   "cell_type": "code",
   "execution_count": 5,
   "id": "0e1f2083",
   "metadata": {},
   "outputs": [],
   "source": [
    "# re-size all the images to this \n",
    "IMAGE_SIZE = [224,224]\n",
    "train_path = 'Datasets/train'\n",
    "valid_path = 'Datasets/test'"
   ]
  },
  {
   "cell_type": "code",
   "execution_count": 6,
   "id": "d8800100",
   "metadata": {},
   "outputs": [],
   "source": [
    "vgg16 = VGG16(input_shape=IMAGE_SIZE+[3], weights='imagenet', include_top=False)"
   ]
  },
  {
   "cell_type": "code",
   "execution_count": 8,
   "id": "fc4a8cd2",
   "metadata": {},
   "outputs": [
    {
     "name": "stdout",
     "output_type": "stream",
     "text": [
      "input_1 : True\n",
      "block1_conv1 : True\n",
      "block1_conv2 : True\n",
      "block1_pool : True\n",
      "block2_conv1 : True\n",
      "block2_conv2 : True\n",
      "block2_pool : True\n",
      "block3_conv1 : True\n",
      "block3_conv2 : True\n",
      "block3_conv3 : True\n",
      "block3_pool : True\n",
      "block4_conv1 : True\n",
      "block4_conv2 : True\n",
      "block4_conv3 : True\n",
      "block4_pool : True\n",
      "block5_conv1 : True\n",
      "block5_conv2 : True\n",
      "block5_conv3 : True\n",
      "block5_pool : True\n"
     ]
    }
   ],
   "source": [
    "for layer in vgg16.layers:\n",
    "    print(f\"{layer.name} : {layer.trainable}\")"
   ]
  },
  {
   "cell_type": "code",
   "execution_count": 9,
   "id": "eec13090",
   "metadata": {},
   "outputs": [],
   "source": [
    "# don't train existing weights\n",
    "for layer in vgg16.layers:\n",
    "    layer.trainable = False"
   ]
  },
  {
   "cell_type": "code",
   "execution_count": 13,
   "id": "4c10ce80",
   "metadata": {},
   "outputs": [],
   "source": [
    "# useful for getting number of output classes\n",
    "folders = glob('Datasets/train/*')"
   ]
  },
  {
   "cell_type": "code",
   "execution_count": 14,
   "id": "2a9d43eb",
   "metadata": {},
   "outputs": [
    {
     "data": {
      "text/plain": [
       "['Datasets/train\\\\diseased cotton leaf',\n",
       " 'Datasets/train\\\\diseased cotton plant',\n",
       " 'Datasets/train\\\\fresh cotton leaf',\n",
       " 'Datasets/train\\\\fresh cotton plant']"
      ]
     },
     "execution_count": 14,
     "metadata": {},
     "output_type": "execute_result"
    }
   ],
   "source": [
    "folders"
   ]
  },
  {
   "cell_type": "code",
   "execution_count": 15,
   "id": "6528104d",
   "metadata": {},
   "outputs": [],
   "source": [
    "x = Flatten()(vgg16.output)"
   ]
  },
  {
   "cell_type": "code",
   "execution_count": 16,
   "id": "30f3bd0f",
   "metadata": {},
   "outputs": [
    {
     "data": {
      "text/plain": [
       "4"
      ]
     },
     "execution_count": 16,
     "metadata": {},
     "output_type": "execute_result"
    }
   ],
   "source": [
    "len(folders)"
   ]
  },
  {
   "cell_type": "code",
   "execution_count": 17,
   "id": "3985f4fd",
   "metadata": {},
   "outputs": [],
   "source": [
    "prediction = Dense(len(folders), activation='softmax')(x)"
   ]
  },
  {
   "cell_type": "code",
   "execution_count": 19,
   "id": "f1eff3af",
   "metadata": {},
   "outputs": [],
   "source": [
    "model = Model(inputs=vgg16.input, outputs=prediction)"
   ]
  },
  {
   "cell_type": "code",
   "execution_count": 20,
   "id": "b1be17f2",
   "metadata": {},
   "outputs": [
    {
     "name": "stdout",
     "output_type": "stream",
     "text": [
      "Model: \"model\"\n",
      "_________________________________________________________________\n",
      "Layer (type)                 Output Shape              Param #   \n",
      "=================================================================\n",
      "input_1 (InputLayer)         [(None, 224, 224, 3)]     0         \n",
      "_________________________________________________________________\n",
      "block1_conv1 (Conv2D)        (None, 224, 224, 64)      1792      \n",
      "_________________________________________________________________\n",
      "block1_conv2 (Conv2D)        (None, 224, 224, 64)      36928     \n",
      "_________________________________________________________________\n",
      "block1_pool (MaxPooling2D)   (None, 112, 112, 64)      0         \n",
      "_________________________________________________________________\n",
      "block2_conv1 (Conv2D)        (None, 112, 112, 128)     73856     \n",
      "_________________________________________________________________\n",
      "block2_conv2 (Conv2D)        (None, 112, 112, 128)     147584    \n",
      "_________________________________________________________________\n",
      "block2_pool (MaxPooling2D)   (None, 56, 56, 128)       0         \n",
      "_________________________________________________________________\n",
      "block3_conv1 (Conv2D)        (None, 56, 56, 256)       295168    \n",
      "_________________________________________________________________\n",
      "block3_conv2 (Conv2D)        (None, 56, 56, 256)       590080    \n",
      "_________________________________________________________________\n",
      "block3_conv3 (Conv2D)        (None, 56, 56, 256)       590080    \n",
      "_________________________________________________________________\n",
      "block3_pool (MaxPooling2D)   (None, 28, 28, 256)       0         \n",
      "_________________________________________________________________\n",
      "block4_conv1 (Conv2D)        (None, 28, 28, 512)       1180160   \n",
      "_________________________________________________________________\n",
      "block4_conv2 (Conv2D)        (None, 28, 28, 512)       2359808   \n",
      "_________________________________________________________________\n",
      "block4_conv3 (Conv2D)        (None, 28, 28, 512)       2359808   \n",
      "_________________________________________________________________\n",
      "block4_pool (MaxPooling2D)   (None, 14, 14, 512)       0         \n",
      "_________________________________________________________________\n",
      "block5_conv1 (Conv2D)        (None, 14, 14, 512)       2359808   \n",
      "_________________________________________________________________\n",
      "block5_conv2 (Conv2D)        (None, 14, 14, 512)       2359808   \n",
      "_________________________________________________________________\n",
      "block5_conv3 (Conv2D)        (None, 14, 14, 512)       2359808   \n",
      "_________________________________________________________________\n",
      "block5_pool (MaxPooling2D)   (None, 7, 7, 512)         0         \n",
      "_________________________________________________________________\n",
      "flatten (Flatten)            (None, 25088)             0         \n",
      "_________________________________________________________________\n",
      "dense (Dense)                (None, 4)                 100356    \n",
      "=================================================================\n",
      "Total params: 14,815,044\n",
      "Trainable params: 100,356\n",
      "Non-trainable params: 14,714,688\n",
      "_________________________________________________________________\n"
     ]
    }
   ],
   "source": [
    "model.summary()"
   ]
  },
  {
   "cell_type": "code",
   "execution_count": 30,
   "id": "4d17f742",
   "metadata": {},
   "outputs": [],
   "source": [
    "model.compile(\n",
    "    loss='categorical_crossentropy',\n",
    "    optimizer='adam',\n",
    "    metrics=['accuracy']\n",
    ")"
   ]
  },
  {
   "cell_type": "code",
   "execution_count": 31,
   "id": "07cb9ba6",
   "metadata": {},
   "outputs": [],
   "source": [
    "train_datagen = ImageDataGenerator(rescale = 1./255,\n",
    "                                   shear_range = 0.2,\n",
    "                                   zoom_range = 0.2,\n",
    "                                   horizontal_flip = True)\n",
    "\n",
    "test_datagen = ImageDataGenerator(rescale = 1./255)"
   ]
  },
  {
   "cell_type": "code",
   "execution_count": 32,
   "id": "20e41c64",
   "metadata": {},
   "outputs": [
    {
     "name": "stdout",
     "output_type": "stream",
     "text": [
      "Found 1951 images belonging to 4 classes.\n"
     ]
    }
   ],
   "source": [
    "# Make sure you provide the same target size as initialied for the image size\n",
    "training_set = train_datagen.flow_from_directory('Datasets/train',\n",
    "                                                 target_size = (224, 224),\n",
    "                                                 batch_size = 32,\n",
    "                                                 class_mode = 'categorical')"
   ]
  },
  {
   "cell_type": "code",
   "execution_count": 33,
   "id": "fcbac10a",
   "metadata": {},
   "outputs": [
    {
     "name": "stdout",
     "output_type": "stream",
     "text": [
      "Found 106 images belonging to 4 classes.\n"
     ]
    }
   ],
   "source": [
    "test_set = test_datagen.flow_from_directory('Datasets/test',\n",
    "                                            target_size = (224, 224),\n",
    "                                            batch_size = 32,\n",
    "                                            class_mode = 'categorical')"
   ]
  },
  {
   "cell_type": "code",
   "execution_count": 45,
   "id": "880263f4",
   "metadata": {},
   "outputs": [
    {
     "data": {
      "text/plain": [
       "(61, 4)"
      ]
     },
     "execution_count": 45,
     "metadata": {},
     "output_type": "execute_result"
    }
   ],
   "source": [
    "len(training_set), len(test_set)"
   ]
  },
  {
   "cell_type": "code",
   "execution_count": 35,
   "id": "b93f7127",
   "metadata": {},
   "outputs": [
    {
     "name": "stderr",
     "output_type": "stream",
     "text": [
      "C:\\Users\\Dell\\anaconda3\\envs\\GPUEnv\\lib\\site-packages\\tensorflow\\python\\keras\\engine\\training.py:1940: UserWarning: `Model.fit_generator` is deprecated and will be removed in a future version. Please use `Model.fit`, which supports generators.\n",
      "  warnings.warn('`Model.fit_generator` is deprecated and '\n"
     ]
    },
    {
     "name": "stdout",
     "output_type": "stream",
     "text": [
      "Epoch 1/20\n",
      "61/61 [==============================] - 60s 973ms/step - loss: 0.7166 - accuracy: 0.7540 - val_loss: 0.2492 - val_accuracy: 0.9245\n",
      "Epoch 2/20\n",
      "61/61 [==============================] - 26s 424ms/step - loss: 0.2209 - accuracy: 0.9247 - val_loss: 0.2309 - val_accuracy: 0.9057\n",
      "Epoch 3/20\n",
      "61/61 [==============================] - 31s 515ms/step - loss: 0.1934 - accuracy: 0.9329 - val_loss: 0.2880 - val_accuracy: 0.8774\n",
      "Epoch 4/20\n",
      "61/61 [==============================] - 32s 526ms/step - loss: 0.1471 - accuracy: 0.9518 - val_loss: 0.1870 - val_accuracy: 0.9434\n",
      "Epoch 5/20\n",
      "61/61 [==============================] - 30s 493ms/step - loss: 0.1224 - accuracy: 0.9610 - val_loss: 0.1276 - val_accuracy: 0.9528\n",
      "Epoch 6/20\n",
      "61/61 [==============================] - 24s 400ms/step - loss: 0.0861 - accuracy: 0.9754 - val_loss: 0.1178 - val_accuracy: 0.9717\n",
      "Epoch 7/20\n",
      "61/61 [==============================] - 24s 391ms/step - loss: 0.0953 - accuracy: 0.9692 - val_loss: 0.1279 - val_accuracy: 0.9528\n",
      "Epoch 8/20\n",
      "61/61 [==============================] - 24s 395ms/step - loss: 0.0839 - accuracy: 0.9754 - val_loss: 0.1312 - val_accuracy: 0.9717\n",
      "Epoch 9/20\n",
      "61/61 [==============================] - 32s 529ms/step - loss: 0.0733 - accuracy: 0.9718 - val_loss: 0.1020 - val_accuracy: 0.9623\n",
      "Epoch 10/20\n",
      "61/61 [==============================] - 43s 694ms/step - loss: 0.0569 - accuracy: 0.9867 - val_loss: 0.1097 - val_accuracy: 0.9434\n",
      "Epoch 11/20\n",
      "61/61 [==============================] - 47s 763ms/step - loss: 0.0474 - accuracy: 0.9867 - val_loss: 0.1044 - val_accuracy: 0.9623\n",
      "Epoch 12/20\n",
      "61/61 [==============================] - 49s 799ms/step - loss: 0.0473 - accuracy: 0.9851 - val_loss: 0.1821 - val_accuracy: 0.9245\n",
      "Epoch 13/20\n",
      "61/61 [==============================] - 43s 709ms/step - loss: 0.0418 - accuracy: 0.9872 - val_loss: 0.0878 - val_accuracy: 0.9717\n",
      "Epoch 14/20\n",
      "61/61 [==============================] - 42s 680ms/step - loss: 0.0395 - accuracy: 0.9903 - val_loss: 0.0887 - val_accuracy: 0.9528\n",
      "Epoch 15/20\n",
      "61/61 [==============================] - 42s 684ms/step - loss: 0.0318 - accuracy: 0.9954 - val_loss: 0.0976 - val_accuracy: 0.9623\n",
      "Epoch 16/20\n",
      "61/61 [==============================] - 41s 674ms/step - loss: 0.0294 - accuracy: 0.9944 - val_loss: 0.1369 - val_accuracy: 0.9340\n",
      "Epoch 17/20\n",
      "61/61 [==============================] - 42s 681ms/step - loss: 0.0345 - accuracy: 0.9892 - val_loss: 0.1827 - val_accuracy: 0.9340\n",
      "Epoch 18/20\n",
      "61/61 [==============================] - 42s 680ms/step - loss: 0.0301 - accuracy: 0.9923 - val_loss: 0.1056 - val_accuracy: 0.9528\n",
      "Epoch 19/20\n",
      "61/61 [==============================] - 40s 652ms/step - loss: 0.0269 - accuracy: 0.9938 - val_loss: 0.1139 - val_accuracy: 0.9623\n",
      "Epoch 20/20\n",
      "61/61 [==============================] - 37s 598ms/step - loss: 0.0298 - accuracy: 0.9933 - val_loss: 0.1166 - val_accuracy: 0.9528\n"
     ]
    }
   ],
   "source": [
    "# fit the model\n",
    "# Run the cell. It will take some time to execute\n",
    "r = model.fit_generator(\n",
    "  training_set,\n",
    "  validation_data=test_set,\n",
    "  epochs=20,\n",
    "  steps_per_epoch=len(training_set),\n",
    "  validation_steps=len(test_set)\n",
    ")\n"
   ]
  },
  {
   "cell_type": "code",
   "execution_count": 36,
   "id": "78124172",
   "metadata": {},
   "outputs": [
    {
     "data": {
      "image/png": "[encoded data removed]",
      "text/plain": [
       "<Figure size 640x480 with 1 Axes>"
      ]
     },
     "metadata": {},
     "output_type": "display_data"
    },
    {
     "data": {
      "image/png": "[encoded data removed]",
      "text/plain": [
       "<Figure size 640x480 with 1 Axes>"
      ]
     },
     "metadata": {},
     "output_type": "display_data"
    },
    {
     "data": {
      "text/plain": [
       "<Figure size 640x480 with 0 Axes>"
      ]
     },
     "metadata": {},
     "output_type": "display_data"
    }
   ],
   "source": [
    "# plot the loss\n",
    "plt.plot(r.history['loss'], label='train loss')\n",
    "plt.plot(r.history['val_loss'], label='val loss')\n",
    "plt.legend()\n",
    "plt.show()\n",
    "plt.savefig('LossVal_loss')\n",
    "\n",
    "# plot the accuracy\n",
    "plt.plot(r.history['accuracy'], label='train acc')\n",
    "plt.plot(r.history['val_accuracy'], label='val acc')\n",
    "plt.legend()\n",
    "plt.show()\n",
    "plt.savefig('AccVal_acc')"
   ]
  },
  {
   "cell_type": "code",
   "execution_count": 37,
   "id": "70f6d9bf",
   "metadata": {},
   "outputs": [],
   "source": [
    "# save it as a h5 file\n",
    "\n",
    "\n",
    "from tensorflow.keras.models import load_model\n",
    "\n",
    "model.save('model_vgg16.h5')"
   ]
  },
  {
   "cell_type": "code",
   "execution_count": 38,
   "id": "05966191",
   "metadata": {},
   "outputs": [],
   "source": [
    "y_pred = model.predict(test_set)"
   ]
  },
  {
   "cell_type": "code",
   "execution_count": 39,
   "id": "8c0073fb",
   "metadata": {},
   "outputs": [
    {
     "data": {
      "text/plain": [
       "array([[1.50841486e-04, 6.97350288e-06, 9.99840856e-01, 1.31801244e-06],\n",
       "       [6.64935413e-08, 3.81163991e-04, 9.57332759e-06, 9.99609292e-01],\n",
       "       [9.99999046e-01, 6.38475797e-07, 3.22760627e-07, 1.62222342e-08],\n",
       "       [4.84336127e-09, 3.90936561e-10, 2.35666917e-07, 9.99999762e-01],\n",
       "       [7.83373616e-06, 8.21669281e-01, 3.66337736e-05, 1.78286284e-01],\n",
       "       [1.76617654e-08, 5.28877854e-06, 2.01626861e-07, 9.99994397e-01],\n",
       "       [2.74081503e-06, 7.71609366e-01, 1.59229728e-06, 2.28386357e-01],\n",
       "       [4.72104574e-07, 1.08934195e-09, 9.99999523e-01, 5.64543390e-09],\n",
       "       [6.06246218e-08, 9.99957919e-01, 3.28308420e-06, 3.86192587e-05],\n",
       "       [4.50245267e-07, 9.99565661e-01, 3.30789703e-07, 4.33569978e-04],\n",
       "       [5.05095734e-08, 2.85237620e-04, 2.50699904e-05, 9.99689698e-01],\n",
       "       [1.92462576e-05, 5.67504976e-08, 9.99978423e-01, 2.30982278e-06],\n",
       "       [1.12635701e-06, 1.48711461e-08, 9.99998808e-01, 1.27514818e-10],\n",
       "       [9.99990940e-01, 2.65542235e-06, 6.42516397e-06, 2.61514643e-10],\n",
       "       [1.43265572e-06, 9.28739190e-01, 6.54433325e-06, 7.12529048e-02],\n",
       "       [2.81917510e-05, 4.66552024e-08, 9.99971747e-01, 1.71442860e-08],\n",
       "       [8.76342554e-08, 1.93534179e-05, 8.42342800e-08, 9.99980450e-01],\n",
       "       [1.94635646e-07, 9.99958634e-01, 1.12528869e-06, 4.00485114e-05],\n",
       "       [9.03888404e-01, 5.77725177e-06, 9.61052999e-02, 4.26262318e-07],\n",
       "       [1.22305910e-05, 5.61776161e-01, 1.76801018e-09, 4.38211590e-01],\n",
       "       [3.31115117e-03, 5.50424993e-01, 1.21316221e-03, 4.45050687e-01],\n",
       "       [9.93213773e-01, 1.48133040e-07, 6.76590158e-03, 2.01768962e-05],\n",
       "       [1.04067867e-05, 2.51915131e-04, 9.99737322e-01, 3.34658324e-07],\n",
       "       [4.09583585e-08, 1.25947423e-04, 6.16782856e-08, 9.99873877e-01],\n",
       "       [2.64648370e-05, 9.98677313e-01, 8.73453700e-06, 1.28744589e-03],\n",
       "       [8.91069067e-06, 1.82482600e-02, 7.39569135e-04, 9.81003284e-01],\n",
       "       [1.57575755e-06, 9.99399900e-01, 6.08996561e-05, 5.37683372e-04],\n",
       "       [3.51950604e-07, 9.52164992e-04, 3.37294565e-04, 9.98710155e-01],\n",
       "       [1.87727201e-04, 4.25044054e-05, 9.99745309e-01, 2.43732920e-05],\n",
       "       [5.45721650e-06, 6.57000124e-01, 2.26397769e-05, 3.42971712e-01],\n",
       "       [2.54780775e-06, 9.98212934e-01, 9.91207617e-06, 1.77464786e-03],\n",
       "       [2.68914420e-08, 3.40807554e-03, 5.26804456e-07, 9.96591449e-01],\n",
       "       [6.41301513e-01, 4.02331680e-05, 3.58639777e-01, 1.84898709e-05],\n",
       "       [2.03921644e-07, 9.82894123e-01, 4.07226162e-06, 1.71015710e-02],\n",
       "       [1.52831763e-05, 2.19177809e-02, 4.66411766e-05, 9.78020251e-01],\n",
       "       [2.35095371e-07, 1.50497572e-03, 1.32619034e-05, 9.98481572e-01],\n",
       "       [2.85561382e-05, 9.95360315e-01, 1.29432192e-05, 4.59821010e-03],\n",
       "       [2.06547566e-06, 9.98777926e-01, 1.63928996e-06, 1.21844420e-03],\n",
       "       [5.45290426e-08, 4.71870862e-08, 9.99996901e-01, 3.03030197e-06],\n",
       "       [9.96012807e-01, 2.98129339e-06, 3.97367449e-03, 1.05816844e-05],\n",
       "       [2.86068243e-04, 1.56182155e-01, 8.40587020e-01, 2.94472184e-03],\n",
       "       [8.23186278e-01, 2.13457184e-04, 1.46989167e-01, 2.96111796e-02],\n",
       "       [4.44047910e-09, 9.99996543e-01, 1.00461273e-09, 3.39707867e-06],\n",
       "       [9.99986410e-01, 7.55471228e-06, 5.74997557e-06, 3.75970643e-07],\n",
       "       [1.22024957e-07, 9.99822080e-01, 1.53169240e-05, 1.62478682e-04],\n",
       "       [4.43927974e-01, 5.55802941e-01, 1.03351871e-04, 1.65788457e-04],\n",
       "       [1.37321240e-05, 1.54317195e-06, 9.99576151e-01, 4.08646505e-04],\n",
       "       [9.75929725e-05, 6.33735792e-04, 9.89566207e-01, 9.70243849e-03],\n",
       "       [1.81474347e-09, 9.99997616e-01, 3.24112093e-09, 2.40933559e-06],\n",
       "       [9.93991435e-01, 4.67728933e-05, 3.43016954e-03, 2.53157131e-03],\n",
       "       [9.99903798e-01, 3.42472731e-06, 8.55067992e-05, 7.28509303e-06],\n",
       "       [9.99909043e-01, 3.70418235e-07, 9.06299611e-05, 1.63524874e-08],\n",
       "       [9.99992490e-01, 7.14705584e-06, 2.58771109e-07, 5.33341691e-08],\n",
       "       [8.85536053e-08, 8.94264190e-07, 2.28253202e-06, 9.99996781e-01],\n",
       "       [1.01359241e-04, 2.58527440e-03, 1.23302452e-03, 9.96080339e-01],\n",
       "       [4.59078848e-07, 1.44061437e-02, 6.25636138e-04, 9.84967768e-01],\n",
       "       [2.06994510e-08, 2.26209886e-04, 5.75191298e-05, 9.99716222e-01],\n",
       "       [3.06703055e-06, 3.68950859e-04, 9.96874529e-04, 9.98631060e-01],\n",
       "       [1.72225627e-05, 1.47608553e-05, 9.99644876e-01, 3.23133980e-04],\n",
       "       [1.27462772e-06, 2.25859419e-01, 1.57618051e-05, 7.74123490e-01],\n",
       "       [4.07060049e-02, 2.82305409e-03, 9.17976797e-01, 3.84940840e-02],\n",
       "       [5.70034864e-09, 1.97626225e-12, 1.00000000e+00, 1.31496437e-11],\n",
       "       [1.88219565e-04, 8.35658211e-05, 9.34799373e-01, 6.49289116e-02],\n",
       "       [1.07966640e-04, 9.54891721e-09, 9.99891996e-01, 1.00963096e-08],\n",
       "       [9.99567211e-01, 3.84880768e-05, 3.94228613e-04, 2.93361264e-08],\n",
       "       [1.22032270e-06, 1.15014054e-03, 4.10757281e-07, 9.98848319e-01],\n",
       "       [2.06960582e-09, 1.03580960e-05, 1.95667280e-06, 9.99987721e-01],\n",
       "       [6.41930669e-08, 9.99613106e-01, 3.00256175e-07, 3.86481202e-04],\n",
       "       [2.54243096e-05, 9.77097392e-01, 1.46065395e-05, 2.28625610e-02],\n",
       "       [9.99712765e-01, 1.06511197e-05, 2.15722015e-04, 6.08405717e-05],\n",
       "       [2.61969699e-08, 9.99764025e-01, 1.92264281e-07, 2.35740736e-04],\n",
       "       [5.46254739e-08, 9.99726713e-01, 1.03614775e-05, 2.62866408e-04],\n",
       "       [9.57238444e-06, 8.78765671e-10, 9.99990463e-01, 1.81942829e-11],\n",
       "       [1.22437905e-06, 9.66028750e-01, 1.52284780e-03, 3.24471779e-02],\n",
       "       [9.95953918e-01, 2.62915019e-05, 2.11869788e-04, 3.80795612e-03],\n",
       "       [3.23452753e-07, 1.37207435e-05, 9.09294968e-08, 9.99985814e-01],\n",
       "       [3.89568850e-05, 1.46333812e-04, 9.96542394e-01, 3.27224378e-03],\n",
       "       [2.60736451e-05, 9.96045172e-01, 3.04317055e-05, 3.89820547e-03],\n",
       "       [1.34046456e-06, 2.61694216e-03, 9.94301915e-01, 3.07978923e-03],\n",
       "       [7.19046866e-09, 9.99959707e-01, 2.39107322e-07, 4.00819881e-05],\n",
       "       [6.49249250e-06, 1.57984424e-11, 9.99993563e-01, 3.95540415e-12],\n",
       "       [1.72236527e-04, 5.49798918e-09, 9.99827743e-01, 4.36292735e-09],\n",
       "       [9.99814451e-01, 1.72796746e-04, 1.03953680e-05, 2.38422649e-06],\n",
       "       [9.64875698e-01, 1.40556415e-06, 3.51196527e-02, 3.28659689e-06],\n",
       "       [9.99597013e-01, 8.97812384e-08, 3.73674236e-04, 2.92426339e-05],\n",
       "       [2.71875274e-06, 1.51316717e-03, 4.11447127e-06, 9.98479903e-01],\n",
       "       [7.44315912e-07, 1.55121309e-03, 2.89244635e-04, 9.98158753e-01],\n",
       "       [3.03455687e-04, 3.02417669e-03, 1.41228444e-03, 9.95260060e-01],\n",
       "       [9.99984264e-01, 6.43769411e-08, 1.52685934e-05, 3.27555711e-07],\n",
       "       [1.90106793e-08, 3.63084215e-12, 1.00000000e+00, 4.99072068e-11],\n",
       "       [1.86817530e-07, 1.62915874e-03, 5.67361247e-04, 9.97803271e-01],\n",
       "       [9.99922514e-01, 7.74743239e-05, 5.45888534e-09, 2.12625473e-09],\n",
       "       [4.83235772e-06, 1.14612910e-03, 9.98845935e-01, 3.07111213e-06],\n",
       "       [2.98418163e-04, 3.20014457e-04, 8.60945582e-01, 1.38435975e-01],\n",
       "       [1.05875074e-06, 9.99210715e-01, 1.07532730e-06, 7.87114666e-04],\n",
       "       [3.89568850e-05, 1.46333812e-04, 9.96542394e-01, 3.27224378e-03],\n",
       "       [4.99347777e-07, 9.99991417e-01, 5.57656641e-08, 8.09316953e-06],\n",
       "       [9.99998808e-01, 9.80163236e-07, 1.92671976e-07, 8.69848371e-09],\n",
       "       [8.76488924e-01, 3.23209097e-05, 1.23478562e-01, 2.40342132e-07],\n",
       "       [1.81818628e-04, 7.73204665e-05, 1.71898940e-08, 9.99740899e-01],\n",
       "       [9.99735892e-01, 1.65412403e-05, 2.47326563e-04, 1.54648390e-07],\n",
       "       [1.05948641e-06, 2.50742072e-03, 1.51424765e-05, 9.97476399e-01],\n",
       "       [1.16733089e-03, 3.23465997e-07, 9.98814464e-01, 1.78468890e-05],\n",
       "       [4.00629824e-06, 2.76748724e-05, 9.94891763e-01, 5.07654157e-03],\n",
       "       [1.23384798e-05, 3.05817274e-08, 9.99987602e-01, 6.63257851e-11],\n",
       "       [2.76299744e-07, 6.87845866e-04, 3.69672256e-04, 9.98942316e-01]],\n",
       "      dtype=float32)"
      ]
     },
     "execution_count": 39,
     "metadata": {},
     "output_type": "execute_result"
    }
   ],
   "source": [
    "y_pred"
   ]
  },
  {
   "cell_type": "code",
   "execution_count": 40,
   "id": "ef1357d5",
   "metadata": {},
   "outputs": [],
   "source": [
    "y_pred = np.argmax(y_pred, axis=1)"
   ]
  },
  {
   "cell_type": "code",
   "execution_count": 41,
   "id": "94233390",
   "metadata": {},
   "outputs": [
    {
     "data": {
      "text/plain": [
       "array([2, 3, 0, 3, 1, 3, 1, 2, 1, 1, 3, 2, 2, 0, 1, 2, 3, 1, 0, 1, 1, 0,\n",
       "       2, 3, 1, 3, 1, 3, 2, 1, 1, 3, 0, 1, 3, 3, 1, 1, 2, 0, 2, 0, 1, 0,\n",
       "       1, 1, 2, 2, 1, 0, 0, 0, 0, 3, 3, 3, 3, 3, 2, 3, 2, 2, 2, 2, 0, 3,\n",
       "       3, 1, 1, 0, 1, 1, 2, 1, 0, 3, 2, 1, 2, 1, 2, 2, 0, 0, 0, 3, 3, 3,\n",
       "       0, 2, 3, 0, 2, 2, 1, 2, 1, 0, 0, 3, 0, 3, 2, 2, 2, 3], dtype=int64)"
      ]
     },
     "execution_count": 41,
     "metadata": {},
     "output_type": "execute_result"
    }
   ],
   "source": [
    "y_pred"
   ]
  },
  {
   "cell_type": "code",
   "execution_count": null,
   "id": "2da23640",
   "metadata": {},
   "outputs": [],
   "source": []
  }
 ],
 "metadata": {
  "kernelspec": {
   "display_name": "GPUEnv",
   "language": "python",
   "name": "gpuenv"
  },
  "language_info": {
   "codemirror_mode": {
    "name": "ipython",
    "version": 3
   },
   "file_extension": ".py",
   "mimetype": "text/x-python",
   "name": "python",
   "nbconvert_exporter": "python",
   "pygments_lexer": "ipython3",
   "version": "3.9.5"
  }
 },
 "nbformat": 4,
 "nbformat_minor": 5
}
